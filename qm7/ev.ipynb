{
 "cells": [
  {
   "cell_type": "code",
   "execution_count": 3,
   "id": "67e55340",
   "metadata": {},
   "outputs": [],
   "source": [
    "import numpy as np\n",
    "import numpy.linalg as lin"
   ]
  },
  {
   "cell_type": "code",
   "execution_count": 6,
   "id": "317d58d7",
   "metadata": {},
   "outputs": [],
   "source": [
    "def getZ(label:str) -> int:    \n",
    "    elements=\"H   He\\\n",
    "        Li  Be  B   C   N   O   F   Ne\\\n",
    "        Na  Mg  Al  Si  P   S   Cl  Ar\\\n",
    "        K   Ca  Sc  Ti  V   Cr  Mn  Fe  Co  Ni  Cu  Zn  Ga  Ge  As  Se  Br  Kr\\\n",
    "        Rb  Sr  Y   Zr  Nb  Mo  Tc  Ru  Rh  Pd  Ag  Cd  In  Sn  Sb  Te  I   Xe\\\n",
    "        Cs  Ba  La  Ce  Pr  Nd  Pm  Sm  Eu  Gd  Tb  Dy  Ho  Er  Tm  Yb\\\n",
    "        Lu  Hf  Ta  W   Re  Os  Ir  Pt  Au  Hg  Tl  Pb  Bi  Po  At  Rn\\\n",
    "        Fr  Ra  Ac  Th  Pa  U\".split()    \n",
    "    \n",
    "    return elements.index(label)+1"
   ]
  },
  {
   "cell_type": "code",
   "execution_count": 4,
   "id": "a54f1646",
   "metadata": {},
   "outputs": [],
   "source": [
    "def importQM7(structure_file:str, energy_file:str):\n",
    "    \"\"\"\n",
    "    Return: Z, R, E\\n\n",
    "    Z: list of 1D-arrays containing atomic identities\\n\n",
    "    R: list of 2D-arrays containing atomic positions\\n\n",
    "    E: 1D-array containing atomization energy\\n\n",
    "    \"\"\"\n",
    "    structures = open(structure_file,  'r').readlines()\n",
    "\n",
    "    Z = []\n",
    "    R = []\n",
    "    E = []\n",
    "    n_max = 0\n",
    "\n",
    "    for line in range(len(structures)):\n",
    "        x = structures[line].split()\n",
    "\n",
    "        #Check for start of molecule structure data:\n",
    "        if len(x) == 1:\n",
    "            n_atoms = int(x[0])\n",
    "            if n_atoms > n_max: n_max = n_atoms\n",
    "\n",
    "            Zs   = np.zeros(n_atoms)\n",
    "            xyzs = np.zeros((n_atoms, 3))\n",
    "\n",
    "            #Go through every atom in the molecule:\n",
    "            atom_index = 0\n",
    "            for j in range(line+2, line+2+n_atoms):\n",
    "                Zs  [atom_index] = getZ(structures[j].split()[0])\n",
    "                xyzs[atom_index] = np.array([float(val) for val in structures[j].split()[1:]])\n",
    "\n",
    "                atom_index += 1\n",
    "            \n",
    "            Z.append(Zs)\n",
    "            R.append(xyzs)\n",
    "        \n",
    "    file = open(energy_file,  'r').readlines()\n",
    "    for line in range(len(file)):\n",
    "        E.append(float(file[line].split()[0]))\n",
    "    \n",
    "    return Z, R, E"
   ]
  },
  {
   "cell_type": "code",
   "execution_count": 10,
   "id": "05d06d08",
   "metadata": {},
   "outputs": [],
   "source": [
    "def coulomb_eigenvalues(Z, R, n_max):\n",
    "    n_mols = len(Z)\n",
    "    n_max  = n_max\n",
    "    #Generate Descriptors, eigenvalues of Coulomb Matrix M\n",
    "    coulomb_eVs = np.zeros((n_mols, n_max))\n",
    "    \n",
    "    for k in range(n_mols):\n",
    "        n_atoms = len(Z[k])\n",
    "\n",
    "        M = np.zeros((n_atoms, n_atoms))\n",
    "\n",
    "        for i in range(n_atoms):\n",
    "            for j in range(n_atoms):\n",
    "                if i == j:\n",
    "                    M[i][j] = 0.5 * (Z[k][i])**2.4\n",
    "                else:\n",
    "                    M[i][j] = (Z[k][i]*Z[k][j]) / lin.norm(R[k][i] - R[k][j])**2\n",
    "\n",
    "        eigenValues = lin.eigvals(M)\n",
    "        sorted_eVal = np.array(sorted(eigenValues, key=abs, reverse=True))\n",
    "\n",
    "        #Append 0s to match molecule with largest number of eigenvalues\n",
    "        if n_atoms == n_max:\n",
    "            coulomb_eVs[k] = sorted_eVal\n",
    "        else:\n",
    "            coulomb_eVs[k] = np.concatenate((sorted_eVal, [0]*(n_max-n_atoms)))\n",
    "\n",
    "    np.savetxt(fname=\"ev.txt\", X=coulomb_eVs, delimiter=\" \", newline=\"\\n\")\n",
    "    return coulomb_eVs"
   ]
  },
  {
   "cell_type": "code",
   "execution_count": 11,
   "id": "54342645",
   "metadata": {},
   "outputs": [],
   "source": [
    "Z, R, E = importQM7(structure_file = \"qm7.txt\",\n",
    "                    energy_file    = \"PBE0.txt\")\n",
    "\n",
    "n_max = len(max(Z, key=len))\n",
    "\n",
    "e = coulomb_eigenvalues(Z, R, n_max)"
   ]
  }
 ],
 "metadata": {
  "kernelspec": {
   "display_name": "venv",
   "language": "python",
   "name": "python3"
  },
  "language_info": {
   "codemirror_mode": {
    "name": "ipython",
    "version": 3
   },
   "file_extension": ".py",
   "mimetype": "text/x-python",
   "name": "python",
   "nbconvert_exporter": "python",
   "pygments_lexer": "ipython3",
   "version": "3.12.3"
  }
 },
 "nbformat": 4,
 "nbformat_minor": 5
}
