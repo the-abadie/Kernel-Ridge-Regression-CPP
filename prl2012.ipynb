{
 "cells": [
  {
   "cell_type": "code",
   "execution_count": 17,
   "id": "89e0fd65",
   "metadata": {},
   "outputs": [],
   "source": [
    "import numpy as np\n",
    "import numpy.linalg as lin\n",
    "import sklearn as skl\n",
    "from sklearn.model_selection import KFold"
   ]
  },
  {
   "cell_type": "code",
   "execution_count": 18,
   "id": "eeef6b6d",
   "metadata": {},
   "outputs": [],
   "source": [
    "def getZ(label:str) -> int:    \n",
    "    elements=\"H   He\\\n",
    "        Li  Be  B   C   N   O   F   Ne\\\n",
    "        Na  Mg  Al  Si  P   S   Cl  Ar\\\n",
    "        K   Ca  Sc  Ti  V   Cr  Mn  Fe  Co  Ni  Cu  Zn  Ga  Ge  As  Se  Br  Kr\\\n",
    "        Rb  Sr  Y   Zr  Nb  Mo  Tc  Ru  Rh  Pd  Ag  Cd  In  Sn  Sb  Te  I   Xe\\\n",
    "        Cs  Ba  La  Ce  Pr  Nd  Pm  Sm  Eu  Gd  Tb  Dy  Ho  Er  Tm  Yb\\\n",
    "        Lu  Hf  Ta  W   Re  Os  Ir  Pt  Au  Hg  Tl  Pb  Bi  Po  At  Rn\\\n",
    "        Fr  Ra  Ac  Th  Pa  U\".split()    \n",
    "    \n",
    "    return elements.index(label)+1"
   ]
  },
  {
   "cell_type": "code",
   "execution_count": 19,
   "id": "de9c6955",
   "metadata": {},
   "outputs": [],
   "source": [
    "def importQM7(structure_file:str, energy_file:str):\n",
    "    \"\"\"\n",
    "    Return: Z, R, E\\n\n",
    "    Z: list of 1D-arrays containing atomic identities\\n\n",
    "    R: list of 2D-arrays containing atomic positions\\n\n",
    "    E: 1D-array containing atomization energy\\n\n",
    "    \"\"\"\n",
    "    structures = open(structure_file,  'r').readlines()\n",
    "\n",
    "    Z = []\n",
    "    R = []\n",
    "    E = []\n",
    "    n_max = 0\n",
    "\n",
    "    for line in range(len(structures)):\n",
    "        x = structures[line].split()\n",
    "\n",
    "        #Check for start of molecule structure data:\n",
    "        if len(x) == 1:\n",
    "            n_atoms = int(x[0])\n",
    "            if n_atoms > n_max: n_max = n_atoms\n",
    "\n",
    "            Zs   = np.zeros(n_atoms)\n",
    "            xyzs = np.zeros((n_atoms, 3))\n",
    "\n",
    "            #Go through every atom in the molecule:\n",
    "            atom_index = 0\n",
    "            for j in range(line+2, line+2+n_atoms):\n",
    "                Zs  [atom_index] = getZ(structures[j].split()[0])\n",
    "                xyzs[atom_index] = np.array([float(val) for val in structures[j].split()[1:]])\n",
    "\n",
    "                atom_index += 1\n",
    "            \n",
    "            Z.append(Zs)\n",
    "            R.append(xyzs)\n",
    "        \n",
    "    file = open(energy_file,  'r').readlines()\n",
    "    for line in range(len(file)):\n",
    "        E.append(float(file[line].split()[0]))\n",
    "    \n",
    "    return Z, R, E"
   ]
  },
  {
   "cell_type": "code",
   "execution_count": 20,
   "id": "2656b2e7",
   "metadata": {},
   "outputs": [],
   "source": [
    "def trainTestSplit(nData:int, nTrain:int):\n",
    "    assert nData > nTrain\n",
    "    nTest = nData - nTrain\n",
    "\n",
    "    index   = np.array([i for i in range(nData)])\n",
    "    np.random.shuffle(index)\n",
    "\n",
    "    training_index = index[0:nTrain]\n",
    "    testing_index  = index[nTrain:]\n",
    "\n",
    "    return training_index, testing_index"
   ]
  },
  {
   "cell_type": "code",
   "execution_count": 21,
   "id": "01eac393",
   "metadata": {},
   "outputs": [],
   "source": [
    "def stratSplit(nData:int, nTrain:int, k:int, y):\n",
    "    assert nData  > nTrain\n",
    "    assert nData == len(y)\n",
    "\n",
    "    sortedIndex = np.argsort(y)\n",
    "    strata = [[] for _ in range(k)]\n",
    "\n",
    "    max_strata = nTrain // k\n",
    "    \n",
    "    for i in range(k):\n",
    "        sample = i\n",
    "        selected = 0 \n",
    "        \n",
    "        while selected < nData:\n",
    "            if sample >= nData: break\n",
    "            strata[i].append(sortedIndex[sample])\n",
    "            sample   += k\n",
    "            selected += 1\n",
    "\n",
    "    for i in range(len(strata)):\n",
    "        np.random.shuffle(strata[i])\n",
    "    \n",
    "    trainingIndex = np.array([])\n",
    "    testingIndex  = np.array([])\n",
    "\n",
    "    for i in range(k):\n",
    "        per_strata = max_strata\n",
    "\n",
    "        if len(trainingIndex) + max_strata > nTrain:\n",
    "            per_strata = nTrain - len(trainingIndex)\n",
    "\n",
    "        if (i == k-1) and (len(trainingIndex) + per_strata < nTrain):\n",
    "            per_strata = nTrain - len(trainingIndex)\n",
    "            \n",
    "        trainingIndex = np.concatenate((trainingIndex, strata[i][:per_strata]), \n",
    "                                        casting=\"unsafe\", dtype=int)\n",
    "        testingIndex  = np.concatenate((testingIndex,  strata[i][per_strata:]), \n",
    "                                        casting=\"unsafe\", dtype=int)\n",
    "\n",
    "    assert len(trainingIndex) == nTrain        , \\\n",
    "        f\"Unexpected array size. {len(trainingIndex)} != {nTrain}\"\n",
    "        \n",
    "    assert len(testingIndex ) == nData - nTrain, \\\n",
    "        f\"Unexpected array size. {len(trainingIndex)} != {nData - nTrain}\"\n",
    "    \n",
    "    return trainingIndex, testingIndex"
   ]
  },
  {
   "cell_type": "code",
   "execution_count": 22,
   "id": "8244086a",
   "metadata": {},
   "outputs": [],
   "source": [
    "def coulomb_eigenvalues(Z, R, n_max):\n",
    "    n_mols = len(Z)\n",
    "    n_max  = n_max\n",
    "    #Generate Descriptors, eigenvalues of Coulomb Matrix M\n",
    "    coulomb_eVs = np.zeros((n_mols, n_max))\n",
    "    \n",
    "    for k in range(n_mols):\n",
    "        n_atoms = len(Z[k])\n",
    "\n",
    "        M = np.zeros((n_atoms, n_atoms))\n",
    "\n",
    "        for i in range(n_atoms):\n",
    "            for j in range(n_atoms):\n",
    "                if i == j:\n",
    "                    M[i][j] = 0.5 * (Z[k][i])**2.4\n",
    "                else:\n",
    "                    M[i][j] = (Z[k][i]*Z[k][j]) / lin.norm(R[k][i] - R[k][j])**2\n",
    "\n",
    "        eigenValues = lin.eigvals(M)\n",
    "        sorted_eVal = np.array(sorted(eigenValues, key=abs, reverse=True))\n",
    "\n",
    "        #Append 0s to match molecule with largest number of eigenvalues\n",
    "        if n_atoms == n_max:\n",
    "            coulomb_eVs[k] = sorted_eVal\n",
    "        else:\n",
    "            coulomb_eVs[k] = np.concatenate((sorted_eVal, [0]*(n_max-n_atoms)))\n",
    "\n",
    "    return coulomb_eVs"
   ]
  },
  {
   "cell_type": "code",
   "execution_count": 23,
   "id": "fa7baa2f",
   "metadata": {},
   "outputs": [],
   "source": [
    "def euclidian_norm(v1, v2):\n",
    "    assert len(v1) == len(v2), \"Vectors must be same size.\"\n",
    "    tmp = (v1 - v2)**2\n",
    "\n",
    "    return np.sqrt(np.sum(tmp))"
   ]
  },
  {
   "cell_type": "code",
   "execution_count": 24,
   "id": "970f0ade",
   "metadata": {},
   "outputs": [],
   "source": [
    "def KRR_evaluate(x, X, alphas, sigma):\n",
    "    sum = 0\n",
    "    for i in range(len(alphas)):\n",
    "        sum += alphas[i]*np.exp(-euclidian_norm(x, X[i])**2 / (2*sigma**2))\n",
    "    return sum"
   ]
  },
  {
   "cell_type": "code",
   "execution_count": 25,
   "id": "b46e5dc0",
   "metadata": {},
   "outputs": [],
   "source": [
    "def KRR_parallel_evaluate(testing_data, training_data, alphas, sigma):\n",
    "    predictions = np.zeros(len(testing_data))\n",
    "\n",
    "    U = training_data.T\n",
    "\n",
    "    for i in range(len(testing_data)):\n",
    "        v = testing_data[i][:, np.newaxis]\n",
    "        arg = np.sum((U - v)**2, axis=0)\n",
    "        arg = np.exp(-arg/(2*sigma**2))\n",
    "\n",
    "        predictions[i] = np.sum(np.multiply(arg, alphas))\n",
    "\n",
    "    return predictions"
   ]
  },
  {
   "cell_type": "code",
   "execution_count": 26,
   "id": "c94f2bbe",
   "metadata": {},
   "outputs": [],
   "source": [
    "def KKR_train(training_data, training_trgt, sigma, lamda):\n",
    "    K = np.zeros((len(training_data), len(training_data)))\n",
    "\n",
    "    for i in range(len(training_data)):\n",
    "        for j in range(len(training_data)):\n",
    "            K[i][j] = np.exp(-euclidian_norm(training_data[i], training_data[j])**2 / (2*sigma**2))\n",
    "    \n",
    "    lambdaI = np.identity(len(training_data))*lamda\n",
    "    alphas  = lin.inv(K + lambdaI)@training_trgt\n",
    "\n",
    "    mae = 0\n",
    "    for i in range(len(training_data)):\n",
    "        pred = KRR_evaluate(training_data[i], training_data, alphas, sigma) \n",
    "        mae += np.abs(pred - training_trgt[i])\n",
    "    \n",
    "    return alphas, mae"
   ]
  },
  {
   "cell_type": "code",
   "execution_count": 27,
   "id": "a1c6fd8c",
   "metadata": {},
   "outputs": [
    {
     "name": "stdout",
     "output_type": "stream",
     "text": [
      "Mismatch in maximum molecule size between training and testing sets. Be cautious.\n"
     ]
    }
   ],
   "source": [
    "model_size = 1000\n",
    "\n",
    "Z_small, R_small, E_small = importQM7(structure_file = \"qm7/sorted/qm7_small.txt\", \n",
    "                                      energy_file    = \"qm7/sorted/PBE0_small.txt\")\n",
    "Z_rest,  R_rest,  E_rest  = importQM7(structure_file = \"qm7/sorted/qm7_rest.txt\", \n",
    "                                      energy_file    = \"qm7/sorted/PBE0_rest.txt\")\n",
    "\n",
    "strat_train, strat_test = stratSplit(nData  = len(Z_rest),\n",
    "                                     nTrain = model_size - len(Z_small),\n",
    "                                     k = 5,\n",
    "                                     y = E_rest)\n",
    "\n",
    "Z_train, R_train, E_train = Z_small, R_small, E_small\n",
    "Z_test , R_test , E_test  = [], [], []\n",
    "\n",
    "\n",
    "for i in range(len(strat_train)):\n",
    "    Z_train.append(Z_rest[strat_train[i]])\n",
    "    R_train.append(R_rest[strat_train[i]])\n",
    "    E_train.append(E_rest[strat_train[i]])\n",
    "\n",
    "for i in range(len(strat_test)):\n",
    "    Z_test.append(Z_rest[strat_test[i]])\n",
    "    R_test.append(R_rest[strat_test[i]])\n",
    "    E_test.append(E_rest[strat_test[i]])\n",
    "\n",
    "\n",
    "if (len(max(Z_train, key=len)) != len(max(Z_test, key=len))):\n",
    "    print(\"Mismatch in maximum molecule size between training and testing sets. Be cautious.\")\n",
    "\n",
    "n_max = max(len(max(Z_train, key=len)),\n",
    "            len(max(Z_test, key=len)))"
   ]
  },
  {
   "cell_type": "code",
   "execution_count": 28,
   "id": "d7afd53c",
   "metadata": {},
   "outputs": [],
   "source": [
    "training_data = coulomb_eigenvalues(Z=Z_train, R=R_train, n_max=n_max)\n",
    "training_trgt = np.array(E_train)\n",
    "\n",
    "testing_data  = coulomb_eigenvalues(Z=Z_test, R=R_test, n_max=n_max)\n",
    "testing_trgt  = np.array(E_test)"
   ]
  },
  {
   "cell_type": "markdown",
   "id": "d054257a",
   "metadata": {},
   "source": [
    "Solving: \n",
    "\n",
    "$\\min_\\alpha \\sum_i(E^\\text{est}(M_i) - E^\\text{ref}_i)^2 + \\lambda\\sum_i \\alpha_i^2$"
   ]
  },
  {
   "cell_type": "code",
   "execution_count": 33,
   "id": "292411ef",
   "metadata": {},
   "outputs": [],
   "source": [
    "def trainingLoop(training_data, training_trgt, sigmas, lambdas, kfold:int,):\n",
    "\n",
    "    kf = KFold(n_splits = kfold)\n",
    "    MAEs = np.zeros((len(sigmas), len(lambdas)))\n",
    "\n",
    "    cvs = 1\n",
    "    for i in range(len(sigmas)):\n",
    "        for j in range(len(lambdas)):\n",
    "            print(f\"CV {cvs} of {len(sigmas)*len(lambdas)}\", end=\"\\r\")\n",
    "            cvs += 1\n",
    "            fold_errors = np.zeros(kfold)\n",
    "\n",
    "            for k, (train_index, valid_index) in enumerate(kf.split(training_data)):\n",
    "\n",
    "                train_data = training_data[train_index]\n",
    "                train_trgt = training_trgt[train_index]\n",
    "                valid_data = training_data[valid_index]\n",
    "                valid_trgt = training_trgt[valid_index]\n",
    "\n",
    "                alphas, mae = KKR_train(\n",
    "                                training_data = train_data,\n",
    "                                training_trgt = train_trgt,\n",
    "                                sigma = sigmas [i],\n",
    "                                lamda = lambdas[j])\n",
    "\n",
    "                for n in range(len(valid_index)):\n",
    "                    pred = KRR_evaluate(x = valid_data[n],\n",
    "                                        X = train_data,\n",
    "                                        alphas = alphas,\n",
    "                                        sigma = sigmas[i])\n",
    "                    \n",
    "                    fold_errors[k] += np.abs(pred - valid_trgt[n])\n",
    "\n",
    "            MAEs[i, j] = np.mean(fold_errors)\n",
    "                \n",
    "    optimal = np.unravel_index(MAEs.argmin(), MAEs.shape)\n",
    "\n",
    "    opt_sig = sigmas [optimal[0]]\n",
    "    opt_lam = lambdas[optimal[1]]\n",
    "    print(f\"Optimal hyperparameters:\\n \\\n",
    "          Sigma : {opt_sig}\\n \\\n",
    "          Lambda: {opt_lam}\")\n",
    "\n",
    "    return opt_sig, opt_lam, MAEs"
   ]
  },
  {
   "cell_type": "code",
   "execution_count": 30,
   "id": "faee6f1a",
   "metadata": {},
   "outputs": [],
   "source": [
    "def trainingLoop2(training_data, training_trgt, sigmas, lambdas, kfold:int,):\n",
    "\n",
    "    kf = KFold(n_splits = kfold)\n",
    "    MAEs = np.zeros((len(sigmas), len(lambdas)))\n",
    "\n",
    "    cvs = 1\n",
    "    for i in range(len(sigmas)):\n",
    "        for j in range(len(lambdas)):\n",
    "            print(f\"CV {cvs} of {len(sigmas)*len(lambdas)}\", end=\"\\r\")\n",
    "            cvs += 1\n",
    "            fold_errors = np.zeros(kfold)\n",
    "\n",
    "            for k, (train_index, valid_index) in enumerate(kf.split(training_data)):\n",
    "\n",
    "                train_data = training_data[train_index]\n",
    "                train_trgt = training_trgt[train_index]\n",
    "                valid_data = training_data[valid_index]\n",
    "                valid_trgt = training_trgt[valid_index]\n",
    "\n",
    "                alphas, mae = KKR_train(\n",
    "                                training_data = train_data,\n",
    "                                training_trgt = train_trgt,\n",
    "                                sigma = sigmas [i],\n",
    "                                lamda = lambdas[j])\n",
    "\n",
    "                preds = KRR_parallel_evaluate(\n",
    "                    testing_data  = valid_data,\n",
    "                    training_data = train_data,\n",
    "                    sigma  = sigmas[i],\n",
    "                    alphas = alphas\n",
    "                )\n",
    "                    \n",
    "                fold_errors[k] = np.sum(np.abs(preds - valid_trgt))\n",
    "\n",
    "            MAEs[i, j] = np.mean(fold_errors)\n",
    "                \n",
    "    optimal = np.unravel_index(MAEs.argmin(), MAEs.shape)\n",
    "\n",
    "    opt_sig = sigmas [optimal[0]]\n",
    "    opt_lam = lambdas[optimal[1]]\n",
    "    print(f\"Optimal hyperparameters:\\n \\\n",
    "          Sigma : {opt_sig}\\n \\\n",
    "          Lambda: {opt_lam}\")\n",
    "\n",
    "    return opt_sig, opt_lam, MAEs"
   ]
  },
  {
   "cell_type": "code",
   "execution_count": 32,
   "id": "29d64517",
   "metadata": {},
   "outputs": [
    {
     "name": "stdout",
     "output_type": "stream",
     "text": [
      "CV 12 of 12\r"
     ]
    },
    {
     "ename": "IndexError",
     "evalue": "list index out of range",
     "output_type": "error",
     "traceback": [
      "\u001b[31m---------------------------------------------------------------------------\u001b[39m",
      "\u001b[31mIndexError\u001b[39m                                Traceback (most recent call last)",
      "\u001b[36mCell\u001b[39m\u001b[36m \u001b[39m\u001b[32mIn[32]\u001b[39m\u001b[32m, line 4\u001b[39m\n\u001b[32m      1\u001b[39m sigmas  = [\u001b[32m2\u001b[39m**i  \u001b[38;5;28;01mfor\u001b[39;00m i \u001b[38;5;129;01min\u001b[39;00m \u001b[38;5;28mrange\u001b[39m(\u001b[32m6\u001b[39m,  \u001b[32m10\u001b[39m)]\n\u001b[32m      2\u001b[39m lambdas = [\u001b[32m10\u001b[39m**i \u001b[38;5;28;01mfor\u001b[39;00m i \u001b[38;5;129;01min\u001b[39;00m \u001b[38;5;28mrange\u001b[39m(-\u001b[32m8\u001b[39m, -\u001b[32m5\u001b[39m)]\n\u001b[32m----> \u001b[39m\u001b[32m4\u001b[39m sig, lam, MAEs = \u001b[43mtrainingLoop\u001b[49m\u001b[43m(\u001b[49m\u001b[43mtraining_data\u001b[49m\u001b[43m,\u001b[49m\u001b[43m \u001b[49m\u001b[43mtraining_trgt\u001b[49m\u001b[43m,\u001b[49m\u001b[43m \u001b[49m\u001b[43msigmas\u001b[49m\u001b[43m=\u001b[49m\u001b[43msigmas\u001b[49m\u001b[43m,\u001b[49m\u001b[43m \u001b[49m\u001b[43mlambdas\u001b[49m\u001b[43m=\u001b[49m\u001b[43mlambdas\u001b[49m\u001b[43m,\u001b[49m\u001b[43m \u001b[49m\u001b[43mkfold\u001b[49m\u001b[43m=\u001b[49m\u001b[32;43m3\u001b[39;49m\u001b[43m)\u001b[49m\n",
      "\u001b[36mCell\u001b[39m\u001b[36m \u001b[39m\u001b[32mIn[29]\u001b[39m\u001b[32m, line 39\u001b[39m, in \u001b[36mtrainingLoop\u001b[39m\u001b[34m(training_data, training_trgt, sigmas, lambdas, kfold)\u001b[39m\n\u001b[32m     36\u001b[39m optimal = np.unravel_index(MAEs.argmin(), MAEs.shape)\n\u001b[32m     38\u001b[39m opt_sig = sigmas [optimal[\u001b[32m0\u001b[39m]]\n\u001b[32m---> \u001b[39m\u001b[32m39\u001b[39m opt_lam = \u001b[43mlambdas\u001b[49m\u001b[43m[\u001b[49m\u001b[43moptimal\u001b[49m\u001b[43m[\u001b[49m\u001b[32;43m0\u001b[39;49m\u001b[43m]\u001b[49m\u001b[43m]\u001b[49m\n\u001b[32m     40\u001b[39m \u001b[38;5;28mprint\u001b[39m(\u001b[33mf\u001b[39m\u001b[33m\"\u001b[39m\u001b[33mOptimal hyperparameters:\u001b[39m\u001b[38;5;130;01m\\n\u001b[39;00m\u001b[33m \u001b[39m\u001b[38;5;130;01m\\\u001b[39;00m\n\u001b[32m     41\u001b[39m \u001b[33m      Sigma : \u001b[39m\u001b[38;5;132;01m{\u001b[39;00mopt_sig\u001b[38;5;132;01m}\u001b[39;00m\u001b[38;5;130;01m\\n\u001b[39;00m\u001b[33m \u001b[39m\u001b[38;5;130;01m\\\u001b[39;00m\n\u001b[32m     42\u001b[39m \u001b[33m      Lambda: \u001b[39m\u001b[38;5;132;01m{\u001b[39;00mopt_lam\u001b[38;5;132;01m}\u001b[39;00m\u001b[33m\"\u001b[39m)\n\u001b[32m     44\u001b[39m \u001b[38;5;28;01mreturn\u001b[39;00m opt_sig, opt_lam, MAEs\n",
      "\u001b[31mIndexError\u001b[39m: list index out of range"
     ]
    }
   ],
   "source": [
    "sigmas  = [2**i  for i in range(6,  10)]\n",
    "lambdas = [10**i for i in range(-8, -5)]\n",
    "\n",
    "sig, lam, MAEs = trainingLoop(training_data, training_trgt, sigmas=sigmas, lambdas=lambdas, kfold=3)"
   ]
  },
  {
   "cell_type": "code",
   "execution_count": 35,
   "id": "04021c31",
   "metadata": {},
   "outputs": [],
   "source": [
    "alphas, mae = KKR_train(training_data = training_data,\n",
    "                        training_trgt = training_trgt,\n",
    "                        sigma = 256,\n",
    "                        lamda = 0.001)"
   ]
  },
  {
   "cell_type": "code",
   "execution_count": 36,
   "id": "744eba18",
   "metadata": {},
   "outputs": [],
   "source": [
    "preds = []\n",
    "\n",
    "for i in range(len(testing_data)):\n",
    "    preds.append(KRR_evaluate(testing_data[i], training_data, alphas, sigma=256))"
   ]
  },
  {
   "cell_type": "code",
   "execution_count": 37,
   "id": "3a9c8ab2",
   "metadata": {},
   "outputs": [],
   "source": [
    "import matplotlib.pyplot as plt"
   ]
  },
  {
   "cell_type": "code",
   "execution_count": 38,
   "id": "cfbd4148",
   "metadata": {},
   "outputs": [
    {
     "data": {
      "text/plain": [
       "[<matplotlib.lines.Line2D at 0x7f880388a090>]"
      ]
     },
     "execution_count": 38,
     "metadata": {},
     "output_type": "execute_result"
    },
    {
     "data": {
      "image/png": "[encoded data removed]",
      "text/plain": [
       "<Figure size 640x480 with 1 Axes>"
      ]
     },
     "metadata": {},
     "output_type": "display_data"
    }
   ],
   "source": [
    "plt.scatter(preds, testing_trgt, s= 4)\n",
    "plt.plot([-2500, 0], [-2500, 0], color=\"black\", linestyle=\":\")"
   ]
  },
  {
   "cell_type": "code",
   "execution_count": 39,
   "id": "21494448",
   "metadata": {},
   "outputs": [
    {
     "name": "stdout",
     "output_type": "stream",
     "text": [
      "169.20123413214793\n"
     ]
    }
   ],
   "source": [
    "preds = np.array(preds)\n",
    "\n",
    "mae = np.mean(np.abs(preds - testing_trgt))\n",
    "\n",
    "print(mae)"
   ]
  }
 ],
 "metadata": {
  "kernelspec": {
   "display_name": "venv",
   "language": "python",
   "name": "python3"
  },
  "language_info": {
   "codemirror_mode": {
    "name": "ipython",
    "version": 3
   },
   "file_extension": ".py",
   "mimetype": "text/x-python",
   "name": "python",
   "nbconvert_exporter": "python",
   "pygments_lexer": "ipython3",
   "version": "3.12.3"
  }
 },
 "nbformat": 4,
 "nbformat_minor": 5
}
